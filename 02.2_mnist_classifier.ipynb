{
  "cells": [
    {
      "cell_type": "markdown",
      "metadata": {
        "id": "5bTFEscEvgK9"
      },
      "source": [
        "![Practicum AI Logo image](https://github.com/faulknerryan72/deep_learning/blob/main/images/practicum_ai_logo.png?raw=1) <img src='https://github.com/faulknerryan72/deep_learning/blob/main/images/practicumai_deep_learning.png?raw=1' alt='Practicum AI: Deep Learning Foundations icon' align='right' width=50>\n",
        "\n",
        "***\n",
        "# *Practicum AI:* Deep Learning - MNIST Classifier\n",
        "\n",
        "This exercise adapted from Baig et al. (2020) <i>The Deep Learning Workshop</i> from <a href=\"https://www.packtpub.com/product/the-deep-learning-workshop/9781839219856\">Packt Publishers</a> (Exercise 2.07, page 92).\n",
        "\n",
        "## Amelia's AI Adventure Continues...\n",
        "\n",
        "<img alt=\"A cartoon of Dr. Amelia's dog looking at a computer with a stack of papers next to it showing some handwritten digits.\" src=\"https://github.com/faulknerryan72/deep_learning/blob/main/images/Amelias_Dog_MNIST.jpg?raw=1\" padding=20 align=\"right\" width=250>Amelia and her nutrition studies are back! After her adventures with image recognition and binary classification, she's curious to dive deeper.\n",
        "\n",
        "While Amelia's data collection process is working for most participants in her study, some do not like using the phone application to submit their survey responses. They keep sending in handwritten responses. Realizing that the data from these study participants is still vital to her research, Dr. Amelia is now looking to automate entering these responses using a program to read the numbers that make up the survey responses.\n",
        "\n",
        "Again, Amelia decides to start with the basics: recognizing handwritten numbers. That's where the MNIST dataset comes in. With its vast collection of handwritten digits, it's the perfect training ground for Amelia's next AI venture.\n",
        "\n",
        "**Note:** The cartoon of Dr Amelia's dog was generated with AI's assistance.\n",
        "\n",
        "Training a model on the MNIST dataset is often considered the \"Hello world!\" of AI. It is a commonly used first introduction to image recognition with deep learning.\n",
        "\n",
        "\n",
        "![AI Application Development Pathway model](https://github.com/PracticumAI/deep_learning_2_draft/blob/main/M3-AppDev.00_00_22_23.Still001.png?raw=true)\n",
        "\n",
        " >&#128221; While you're going through this notebook, see if you can figure out which steps here are associated with each of the steps of the Development Pathway.\n",
        "\n",
        "## MNIST Handwritten Digit Classification Dataset\n",
        "\n",
        "The [MNIST](http://yann.lecun.com/exdb/mnist/) (Modified National Institute of Standards and Technology) training dataset contains 60,000 28×28 pixel grayscale images of handwritten single digits between 0 and 9, with an additional 10,000 images available for testing.\n",
        "\n",
        "The MNIST dataset is frequently used in machine learning research and has become a standard benchmark for image classification models. Top-performing models often achieve a classification accuracy above 99%, with an error rate between 0.4% and 0.2% on the hold-out test dataset.\n",
        "\n",
        "In this exercise, you will implement a deep neural network (multi-layer) capable of classifying these images of handwritten digits into one of 10 classes.\n",
        "\n",
        "Amelia knows that to start any AI project, she'll need the right tools. She begins by importing the necessary libraries to set the stage for her digit-reading neural network.\n",
        "\n",
        "## 1. Import libraries\n",
        "\n",
        "Import the necessary libraries."
      ]
    },
    {
      "cell_type": "code",
      "execution_count": 1,
      "metadata": {
        "id": "63NQ7LD6vgK-"
      },
      "outputs": [],
      "source": [
        "import tensorflow as tf   # Import the TensorFlow library, which provides tools for machine learning and deep learning.\n",
        "import pandas as pd\n",
        "import numpy as np\n",
        "\n",
        "import matplotlib.pyplot as plt  # Import the matplotlib library for plotting and visualization.\n",
        "# This line allows for the display of plots directly within the Jupyter notebook interface.\n",
        "%matplotlib inline\n",
        "\n",
        "# Import Keras libraries\n",
        "from tensorflow.keras.models import Sequential  # Import the Sequential model: a linear stack of layers from Keras module in TensorFlow.\n",
        "from tensorflow.keras.layers import Dense  # Import the Dense layer: a fully connected neural network layer from Keras module in TensorFlow.\n",
        "from tensorflow.keras.layers import Flatten  # Import the Flatten layer: used to convert input data into a 1D array from Keras module in TensorFlow."
      ]
    },
    {
      "cell_type": "markdown",
      "metadata": {
        "id": "I_T8jwJ4vgK-"
      },
      "source": [
        "## 2. Load the MNIST dataset\n",
        "\n",
        "Amelia will need to import the MNIST dataset from the [Keras module](https://keras.io/api/datasets/mnist/). The `train_features` and `test_features` variables contain the training and test images, while `train_labels` and `test_labels` contain the corresponding labels for each item in those datasets.  \n",
        "\n",
        "```python\n",
        "# Import the MNIST dataset from TensorFlow's Keras datasets module\n",
        "mnist = tf.keras.datasets.mnist\n",
        "\n",
        "# Load the MNIST dataset:\n",
        "# - train_features and train_labels are the training images and their corresponding labels.\n",
        "# - test_features and test_labels are the testing images and their corresponding labels.\n",
        "(train_features,train_labels), (test_features,test_labels) = mnist.load_data()\n",
        "```"
      ]
    },
    {
      "cell_type": "code",
      "execution_count": 18,
      "metadata": {
        "id": "GyoDYDfwvgK-"
      },
      "outputs": [],
      "source": [
        "# Code it!\n",
        "\n",
        "# Import the MNIST dataset from TensorFlow's Keras datasets module\n",
        "mnist = tf.keras.datasets.mnist\n",
        "\n",
        "# Load the MNIST dataset:\n",
        "# - train_features and train_labels are the training images and their corresponding labels.\n",
        "# - test_features and test_labels are the testing images and their corresponding labels.\n",
        "(train_features,train_labels), (test_features,test_labels) = mnist.load_data()"
      ]
    },
    {
      "cell_type": "markdown",
      "metadata": {
        "id": "xBP9zC8JvgK-"
      },
      "source": [
        "## 3. Visualize the data\n",
        "\n",
        "Before we start to work with data, it is always good to get a better idea of what we are working with.\n",
        "\n",
        "How many images do we have in our training and testing datasets? (Hint, remember the `len()` function.)"
      ]
    },
    {
      "cell_type": "code",
      "execution_count": 17,
      "metadata": {
        "colab": {
          "base_uri": "https://localhost:8080/"
        },
        "id": "DZzZ7M3bvgK_",
        "outputId": "e545c464-a7c4-42c3-b249-8b529e3ada71"
      },
      "outputs": [
        {
          "output_type": "stream",
          "name": "stdout",
          "text": [
            "[[[0 0 0 ... 0 0 0]\n",
            "  [0 0 0 ... 0 0 0]\n",
            "  [0 0 0 ... 0 0 0]\n",
            "  ...\n",
            "  [0 0 0 ... 0 0 0]\n",
            "  [0 0 0 ... 0 0 0]\n",
            "  [0 0 0 ... 0 0 0]]\n",
            "\n",
            " [[0 0 0 ... 0 0 0]\n",
            "  [0 0 0 ... 0 0 0]\n",
            "  [0 0 0 ... 0 0 0]\n",
            "  ...\n",
            "  [0 0 0 ... 0 0 0]\n",
            "  [0 0 0 ... 0 0 0]\n",
            "  [0 0 0 ... 0 0 0]]\n",
            "\n",
            " [[0 0 0 ... 0 0 0]\n",
            "  [0 0 0 ... 0 0 0]\n",
            "  [0 0 0 ... 0 0 0]\n",
            "  ...\n",
            "  [0 0 0 ... 0 0 0]\n",
            "  [0 0 0 ... 0 0 0]\n",
            "  [0 0 0 ... 0 0 0]]\n",
            "\n",
            " ...\n",
            "\n",
            " [[0 0 0 ... 0 0 0]\n",
            "  [0 0 0 ... 0 0 0]\n",
            "  [0 0 0 ... 0 0 0]\n",
            "  ...\n",
            "  [0 0 0 ... 0 0 0]\n",
            "  [0 0 0 ... 0 0 0]\n",
            "  [0 0 0 ... 0 0 0]]\n",
            "\n",
            " [[0 0 0 ... 0 0 0]\n",
            "  [0 0 0 ... 0 0 0]\n",
            "  [0 0 0 ... 0 0 0]\n",
            "  ...\n",
            "  [0 0 0 ... 0 0 0]\n",
            "  [0 0 0 ... 0 0 0]\n",
            "  [0 0 0 ... 0 0 0]]\n",
            "\n",
            " [[0 0 0 ... 0 0 0]\n",
            "  [0 0 0 ... 0 0 0]\n",
            "  [0 0 0 ... 0 0 0]\n",
            "  ...\n",
            "  [0 0 0 ... 0 0 0]\n",
            "  [0 0 0 ... 0 0 0]\n",
            "  [0 0 0 ... 0 0 0]]]\n"
          ]
        }
      ],
      "source": [
        "# Code it!\n",
        "\n",
        "(print(train_features))\n",
        "# (print(train_labels))\n",
        "# (print(test_features))\n",
        "# (print(test_labels))\n",
        "\n",
        "# (len(train_features))\n",
        "# (len(train_labels))\n",
        "# (len(test_features))\n",
        "# (len(test_labels))"
      ]
    },
    {
      "cell_type": "markdown",
      "metadata": {
        "id": "Yty7z-nhvgK_"
      },
      "source": [
        "Let's have a look at a random image."
      ]
    },
    {
      "cell_type": "code",
      "execution_count": 14,
      "metadata": {
        "tags": [],
        "colab": {
          "base_uri": "https://localhost:8080/",
          "height": 933
        },
        "id": "WLeKdvsavgK_",
        "outputId": "7ddaa70e-bf00-4c51-96db-d4d7c5ffb46b"
      },
      "outputs": [
        {
          "output_type": "stream",
          "name": "stdout",
          "text": [
            "[[  0   0   0   0   0   0   0   0   0   0   0   0   0   0   0   0   0   0   0   0   0   0   0   0   0   0   0   0]\n",
            " [  0   0   0   0   0   0   0   0   0   0   0   0   0   0   0   0   0   0   0   0   0   0   0   0   0   0   0   0]\n",
            " [  0   0   0   0   0   0   0   0   0   0   0   0   0   0   0   0   0   0   0   0   0   0   0   0   0   0   0   0]\n",
            " [  0   0   0   0   0   0   0   0   0   0   0   0   0   0   0   0   0   0 191 255 191   0   0   0   0   0   0   0]\n",
            " [  0   0   0   0   0   0   0   0   0   0   0   0   0   0   0   0 128 255 255 255 255 128   0   0   0   0   0   0]\n",
            " [  0   0   0   0   0   0   0   0   0   0   0   0   0 191 255 255 255 255 255 255 255 128   0   0   0   0   0   0]\n",
            " [  0   0   0   0   0   0   0   0   0   0   0   0 128 255 255 255 255 255 255 255 191  64   0   0   0   0   0   0]\n",
            " [  0   0   0   0   0   0   0   0   0   0   0   0 128 255 255 255 255 255 191  64   0   0   0   0   0   0   0   0]\n",
            " [  0   0   0   0   0   0   0   0   0   0   0 128 255 255 255 191 128   0   0   0   0   0   0   0   0   0   0   0]\n",
            " [  0   0   0   0   0   0   0   0   0  64 191 255 255 255  64   0   0   0   0   0   0   0   0   0   0   0   0   0]\n",
            " [  0   0   0   0   0   0   0   0   0 191 255 255 191  64   0   0   0   0   0   0   0   0   0   0   0   0   0   0]\n",
            " [  0   0   0   0   0   0   0   0  64 255 255 255 128   0   0   0   0   0   0   0   0   0   0   0   0   0   0   0]\n",
            " [  0   0   0   0   0   0   0   0 255 255 255 255 255 191  64  64 128   0  64 128   0   0   0   0   0   0   0   0]\n",
            " [  0   0   0   0   0   0   0   0 255 255 255 255 255 255 255 255 255 191 191 255 255  64   0   0   0   0   0   0]\n",
            " [  0   0   0   0   0   0   0   0 255 255 255 255 255 255 255 255 255 255 255 255 255 128   0   0   0   0   0   0]\n",
            " [  0   0   0   0   0   0   0   0   0   0   0   0   0   0   0  64 128 128 191 255 255 128   0   0   0   0   0   0]\n",
            " [  0   0   0   0   0   0   0   0   0   0   0   0   0   0   0   0   0   0   0 191 255 191   0   0   0   0   0   0]\n",
            " [  0   0   0   0   0   0   0   0   0   0   0   0   0   0   0   0   0   0 128 255 255 255   0   0   0   0   0   0]\n",
            " [  0   0   0   0   0   0   0   0   0   0   0   0   0   0   0   0   0 128 255 255 255 128   0   0   0   0   0   0]\n",
            " [  0   0   0   0   0  64 191 191   0   0   0   0   0   0   0   0 128 255 255 255 255  64   0   0   0   0   0   0]\n",
            " [  0   0   0   0   0 128 255 255 255 255 255 255 255 255 255 255 255 255 255 191   0   0   0   0   0   0   0   0]\n",
            " [  0   0   0   0   0   0 191 255 255 255 255 255 255 255 255 255 255 255 128   0   0   0   0   0   0   0   0   0]\n",
            " [  0   0   0   0   0   0   0 128 128 255 255 255 255 255 255 191 128   0   0   0   0   0   0   0   0   0   0   0]\n",
            " [  0   0   0   0   0   0   0   0   0   0   0   0   0   0   0   0   0   0   0   0   0   0   0   0   0   0   0   0]\n",
            " [  0   0   0   0   0   0   0   0   0   0   0   0   0   0   0   0   0   0   0   0   0   0   0   0   0   0   0   0]\n",
            " [  0   0   0   0   0   0   0   0   0   0   0   0   0   0   0   0   0   0   0   0   0   0   0   0   0   0   0   0]\n",
            " [  0   0   0   0   0   0   0   0   0   0   0   0   0   0   0   0   0   0   0   0   0   0   0   0   0   0   0   0]\n",
            " [  0   0   0   0   0   0   0   0   0   0   0   0   0   0   0   0   0   0   0   0   0   0   0   0   0   0   0   0]]\n"
          ]
        },
        {
          "output_type": "display_data",
          "data": {
            "text/plain": [
              "<Figure size 640x480 with 1 Axes>"
            ],
            "image/png": "[encoded data removed]"
          },
          "metadata": {}
        },
        {
          "output_type": "stream",
          "name": "stdout",
          "text": [
            "The true label for this image is a 5.\n"
          ]
        }
      ],
      "source": [
        "# Set line width for numpy array printing\n",
        "np.set_printoptions(linewidth=150)\n",
        "\n",
        "# Select a random number from train_features\n",
        "select = np.random.randint(0,len(train_features))\n",
        "\n",
        "# Print the image array - longer line length above should allow it to have all 28 rows in 1 line\n",
        "print(train_features[select])\n",
        "\n",
        "# Display the image as an actual image\n",
        "plt.imshow(train_features[select], cmap='gray')\n",
        "plt.show()\n",
        "\n",
        "# Print the true label for the image from train_labels\n",
        "print(f\"The true label for this image is a {train_labels[select]}.\")"
      ]
    },
    {
      "cell_type": "markdown",
      "metadata": {
        "id": "jJI6NZRFvgK_"
      },
      "source": [
        "The ouptut of the cell above should help clarify how images are encoded in our data. Each pixel has a value from 0 (black) to 255 (white). Since our images are black and white, we only have one grid of pixels. For color images, we would have three: one for each color, red, green, blue.\n",
        "\n",
        "Our datasets have 60,000 images in the `train_features` and 10,000 images in the `test_features`. We will use these data as we move forward."
      ]
    },
    {
      "cell_type": "markdown",
      "metadata": {
        "id": "boh8KEJWvgK_"
      },
      "source": [
        "## 4. Normalize the data\n",
        "\n",
        "Before we normalize the data, look to see what the current maximum value is in `train_features`."
      ]
    },
    {
      "cell_type": "code",
      "execution_count": 21,
      "metadata": {
        "colab": {
          "base_uri": "https://localhost:8080/"
        },
        "id": "P3QEdljRvgK_",
        "outputId": "21eaf7f1-4234-48d3-ab4d-43553ec53c6d"
      },
      "outputs": [
        {
          "output_type": "execute_result",
          "data": {
            "text/plain": [
              "255"
            ]
          },
          "metadata": {},
          "execution_count": 21
        }
      ],
      "source": [
        "# Code it! What is the max value of train_features?\n",
        "\n",
        "train_features.max()"
      ]
    },
    {
      "cell_type": "markdown",
      "metadata": {
        "id": "w_NMnv_ovgK_"
      },
      "source": [
        "\n",
        "Amelia normalizes the data to ensure her AI model can efficiently process these images. Processing your features so that they are represented by numbers between 0 and 1 is a best practice for AI model development.\n",
        "\n",
        "Normalize the data by scaling the images so their values are between 0 and 1.\n",
        "\n",
        "```python\n",
        "# Normalize the pixel values of the training and testing images to be between 0 and 1.\n",
        "# This is done by dividing each pixel value by 255 (the maximum pixel value for an 8-bit image).\n",
        "# Normalizing improves the training process and convergence.\n",
        "train_features, test_features = train_features / 255.0, test_features / 255.0\n",
        "```"
      ]
    },
    {
      "cell_type": "code",
      "execution_count": 22,
      "metadata": {
        "id": "F6WdS6JovgK_"
      },
      "outputs": [],
      "source": [
        "# Code it!\n",
        "\n",
        "# Normalize the pixel values of the training and testing images to be between 0 and 1.\n",
        "# This is done by dividing each pixel value by 255 (the maximum pixel value for an 8-bit image).\n",
        "# Normalizing improves the training process and convergence.\n",
        "train_features, test_features = train_features / 255.0, test_features / 255.0"
      ]
    },
    {
      "cell_type": "markdown",
      "metadata": {
        "id": "HO_t0myVvgK_"
      },
      "source": [
        "Look at the maximum value of `train features` after normalization."
      ]
    },
    {
      "cell_type": "code",
      "execution_count": 23,
      "metadata": {
        "colab": {
          "base_uri": "https://localhost:8080/"
        },
        "id": "FJp7rC5ovgK_",
        "outputId": "7114bf2f-8b44-485e-ccf0-9f8ea7b2d23b"
      },
      "outputs": [
        {
          "output_type": "execute_result",
          "data": {
            "text/plain": [
              "1.0"
            ]
          },
          "metadata": {},
          "execution_count": 23
        }
      ],
      "source": [
        "# Code it! After normalization, what is the max value of train_features?\n",
        "\n",
        "train_features.max()"
      ]
    },
    {
      "cell_type": "markdown",
      "metadata": {
        "id": "npGi3Uq0vgK_"
      },
      "source": [
        "## 5. Build the sequential model\n",
        "\n",
        "Now, the fun part begins! Amelia sets out to build her neural network. In the previous exercises, Amelia called a pre-trained model for image recognition and then built a single-layer network for her binary classifier. With her confidence high, she is going to create this model herself out of multiple layers. This approach gives her (and you!) the most control over the function of the model.\n",
        "\n",
        "Using the Sequential API, build your model according to the following details:\n",
        "\n",
        "* First, add a flattened layer to unroll the 28x28 pixel images into a single array of 784. The model should use the input_shape in the function argument to set the input size in the first layer.\n",
        "* Add a dense hidden layer with 50 units (neurons) and ReLU (Rectified Linear Unit) activation function.\n",
        "   * The ReLU function will allow the model to capture non-linearities.\n",
        "* Add a second, dense hidden layer with 20 units and ReLU activation function.\n",
        "* Add a dense output layer with 10 units and the softmax activation function.\n",
        "   * We use ten neurons, each representing the digits 0-9.\n",
        "   * The softmax function ensures the output values are probabilities that sum to 1, making it suitable for classification.\n",
        "\n",
        "Here's a graphical view of what we are doing:\n",
        "\n",
        "![A diagram of the neural network being created. It shows the input 28X28 image being flattened into a 784 dimension array. That is the input. There are two hidden, fully connected layers with 50 and 20 neurons each. The final output layer has 10 neurons for the 10 classes in our model.](https://github.com/faulknerryan72/deep_learning/blob/main/images/MNIST_neural_network.png?raw=1)\n",
        "\n",
        "\n",
        "Your completed neural network should have four layers. Feel free to experiment with different architectures and build your own model.\n",
        "\n",
        "```python\n",
        "# Instantiate a Sequential model, which allows us to build a neural network by stacking layers in a linear fashion.\n",
        "model = Sequential()\n",
        "\n",
        "# Add a Flatten layer to the model which transforms a 2D matrix (28x28 pixels) into a 1D array.\n",
        "# This is necessary because our input images are 28x28 pixels, and we need to flatten them to feed into a dense layer.\n",
        "model.add(Flatten(input_shape=(28,28)))\n",
        "\n",
        "# Add a Dense (fully connected) layer with 50 units and a ReLU activation function.\n",
        "model.add(Dense(units=50, activation='relu'))\n",
        "\n",
        "# Add another Dense layer with 20 units and a ReLU activation function.\n",
        "model.add(Dense(units=20, activation='relu'))\n",
        "\n",
        "# Add a final Dense layer with 10 units and a softmax activation function.\n",
        "model.add(Dense(units=10, activation='softmax'))\n",
        "```"
      ]
    },
    {
      "cell_type": "code",
      "execution_count": 24,
      "metadata": {
        "colab": {
          "base_uri": "https://localhost:8080/"
        },
        "id": "7sC8gxURvgK_",
        "outputId": "4b8e9df6-3d24-4bd3-999e-766a5249806e"
      },
      "outputs": [
        {
          "output_type": "stream",
          "name": "stderr",
          "text": [
            "/usr/local/lib/python3.10/dist-packages/keras/src/layers/reshaping/flatten.py:37: UserWarning: Do not pass an `input_shape`/`input_dim` argument to a layer. When using Sequential models, prefer using an `Input(shape)` object as the first layer in the model instead.\n",
            "  super().__init__(**kwargs)\n"
          ]
        }
      ],
      "source": [
        "# Code it!\n",
        "\n",
        "# Instantiate a Sequential model, which allows us to build a neural network by stacking layers in a linear fashion.\n",
        "model = Sequential()\n",
        "\n",
        "# Add a Flatten layer to the model which transforms a 2D matrix (28x28 pixels) into a 1D array.\n",
        "# This is necessary because our input images are 28x28 pixels, and we need to flatten them to feed into a dense layer.\n",
        "model.add(Flatten(input_shape=(28,28)))\n",
        "\n",
        "# Add a Dense (fully connected) layer with 50 units and a ReLU activation function.\n",
        "model.add(Dense(units=50, activation='relu'))\n",
        "\n",
        "# Add another Dense layer with 20 units and a ReLU activation function.\n",
        "model.add(Dense(units=20, activation='relu'))\n",
        "\n",
        "# Add a final Dense layer with 10 units and a softmax activation function.\n",
        "model.add(Dense(units=10, activation='softmax'))\n",
        "\n"
      ]
    },
    {
      "cell_type": "markdown",
      "metadata": {
        "id": "-Mw_D6m0vgK_"
      },
      "source": [
        "## 6. Compile the model\n",
        "\n",
        "Compiling is the next step. Here, Amelia will specify the parts of the model that are not in the layers, namely the optimizer, loss function, and performance metric.\n",
        "\n",
        "To `compile` the model, you need to specify an optimizer, a loss function, and a metric to judge your model's performance.\n",
        "\n",
        "Compile the model with the following specifications:\n",
        "* `adam` optimizer: An optimization algorithm that adjusts the model weights to minimize the loss.\n",
        "* `sparse_categorical_crossentropy` loss function: Suitable for classification tasks with integer labels.\n",
        "* `accuracy` metric: To monitor the accuracy of the model's predictions during training and evaluation.\n",
        "\n",
        "```python\n",
        "model.compile(optimizer='adam', loss='sparse_categorical_crossentropy', metrics=['accuracy'])\n",
        "```"
      ]
    },
    {
      "cell_type": "code",
      "execution_count": 25,
      "metadata": {
        "id": "_4BENN28vgK_"
      },
      "outputs": [],
      "source": [
        "# Code it!\n",
        "\n",
        "model.compile(optimizer='adam', loss='sparse_categorical_crossentropy', metrics=['accuracy'])"
      ]
    },
    {
      "cell_type": "markdown",
      "metadata": {
        "id": "nbHF-PpevgK_"
      },
      "source": [
        "## 7. Inspect the model configuration using the summary function\n",
        "\n",
        "Display a summary of the model's architecture, including the layers, their shapes, and the number of parameters.\n",
        "\n",
        "```python\n",
        "model.summary()\n",
        "```"
      ]
    },
    {
      "cell_type": "code",
      "execution_count": 26,
      "metadata": {
        "colab": {
          "base_uri": "https://localhost:8080/",
          "height": 272
        },
        "id": "BFetzJvovgK_",
        "outputId": "332c72b7-7b18-452b-a5bf-8a9428a4edfd"
      },
      "outputs": [
        {
          "output_type": "display_data",
          "data": {
            "text/plain": [
              "\u001b[1mModel: \"sequential\"\u001b[0m\n"
            ],
            "text/html": [
              "<pre style=\"white-space:pre;overflow-x:auto;line-height:normal;font-family:Menlo,'DejaVu Sans Mono',consolas,'Courier New',monospace\"><span style=\"font-weight: bold\">Model: \"sequential\"</span>\n",
              "</pre>\n"
            ]
          },
          "metadata": {}
        },
        {
          "output_type": "display_data",
          "data": {
            "text/plain": [
              "┏━━━━━━━━━━━━━━━━━━━━━━━━━━━━━━━━━━━━━━┳━━━━━━━━━━━━━━━━━━━━━━━━━━━━━┳━━━━━━━━━━━━━━━━━┓\n",
              "┃\u001b[1m \u001b[0m\u001b[1mLayer (type)                        \u001b[0m\u001b[1m \u001b[0m┃\u001b[1m \u001b[0m\u001b[1mOutput Shape               \u001b[0m\u001b[1m \u001b[0m┃\u001b[1m \u001b[0m\u001b[1m        Param #\u001b[0m\u001b[1m \u001b[0m┃\n",
              "┡━━━━━━━━━━━━━━━━━━━━━━━━━━━━━━━━━━━━━━╇━━━━━━━━━━━━━━━━━━━━━━━━━━━━━╇━━━━━━━━━━━━━━━━━┩\n",
              "│ flatten (\u001b[38;5;33mFlatten\u001b[0m)                    │ (\u001b[38;5;45mNone\u001b[0m, \u001b[38;5;34m784\u001b[0m)                 │               \u001b[38;5;34m0\u001b[0m │\n",
              "├──────────────────────────────────────┼─────────────────────────────┼─────────────────┤\n",
              "│ dense (\u001b[38;5;33mDense\u001b[0m)                        │ (\u001b[38;5;45mNone\u001b[0m, \u001b[38;5;34m50\u001b[0m)                  │          \u001b[38;5;34m39,250\u001b[0m │\n",
              "├──────────────────────────────────────┼─────────────────────────────┼─────────────────┤\n",
              "│ dense_1 (\u001b[38;5;33mDense\u001b[0m)                      │ (\u001b[38;5;45mNone\u001b[0m, \u001b[38;5;34m20\u001b[0m)                  │           \u001b[38;5;34m1,020\u001b[0m │\n",
              "├──────────────────────────────────────┼─────────────────────────────┼─────────────────┤\n",
              "│ dense_2 (\u001b[38;5;33mDense\u001b[0m)                      │ (\u001b[38;5;45mNone\u001b[0m, \u001b[38;5;34m10\u001b[0m)                  │             \u001b[38;5;34m210\u001b[0m │\n",
              "└──────────────────────────────────────┴─────────────────────────────┴─────────────────┘\n"
            ],
            "text/html": [
              "<pre style=\"white-space:pre;overflow-x:auto;line-height:normal;font-family:Menlo,'DejaVu Sans Mono',consolas,'Courier New',monospace\">┏━━━━━━━━━━━━━━━━━━━━━━━━━━━━━━━━━━━━━━┳━━━━━━━━━━━━━━━━━━━━━━━━━━━━━┳━━━━━━━━━━━━━━━━━┓\n",
              "┃<span style=\"font-weight: bold\"> Layer (type)                         </span>┃<span style=\"font-weight: bold\"> Output Shape                </span>┃<span style=\"font-weight: bold\">         Param # </span>┃\n",
              "┡━━━━━━━━━━━━━━━━━━━━━━━━━━━━━━━━━━━━━━╇━━━━━━━━━━━━━━━━━━━━━━━━━━━━━╇━━━━━━━━━━━━━━━━━┩\n",
              "│ flatten (<span style=\"color: #0087ff; text-decoration-color: #0087ff\">Flatten</span>)                    │ (<span style=\"color: #00d7ff; text-decoration-color: #00d7ff\">None</span>, <span style=\"color: #00af00; text-decoration-color: #00af00\">784</span>)                 │               <span style=\"color: #00af00; text-decoration-color: #00af00\">0</span> │\n",
              "├──────────────────────────────────────┼─────────────────────────────┼─────────────────┤\n",
              "│ dense (<span style=\"color: #0087ff; text-decoration-color: #0087ff\">Dense</span>)                        │ (<span style=\"color: #00d7ff; text-decoration-color: #00d7ff\">None</span>, <span style=\"color: #00af00; text-decoration-color: #00af00\">50</span>)                  │          <span style=\"color: #00af00; text-decoration-color: #00af00\">39,250</span> │\n",
              "├──────────────────────────────────────┼─────────────────────────────┼─────────────────┤\n",
              "│ dense_1 (<span style=\"color: #0087ff; text-decoration-color: #0087ff\">Dense</span>)                      │ (<span style=\"color: #00d7ff; text-decoration-color: #00d7ff\">None</span>, <span style=\"color: #00af00; text-decoration-color: #00af00\">20</span>)                  │           <span style=\"color: #00af00; text-decoration-color: #00af00\">1,020</span> │\n",
              "├──────────────────────────────────────┼─────────────────────────────┼─────────────────┤\n",
              "│ dense_2 (<span style=\"color: #0087ff; text-decoration-color: #0087ff\">Dense</span>)                      │ (<span style=\"color: #00d7ff; text-decoration-color: #00d7ff\">None</span>, <span style=\"color: #00af00; text-decoration-color: #00af00\">10</span>)                  │             <span style=\"color: #00af00; text-decoration-color: #00af00\">210</span> │\n",
              "└──────────────────────────────────────┴─────────────────────────────┴─────────────────┘\n",
              "</pre>\n"
            ]
          },
          "metadata": {}
        },
        {
          "output_type": "display_data",
          "data": {
            "text/plain": [
              "\u001b[1m Total params: \u001b[0m\u001b[38;5;34m40,480\u001b[0m (158.12 KB)\n"
            ],
            "text/html": [
              "<pre style=\"white-space:pre;overflow-x:auto;line-height:normal;font-family:Menlo,'DejaVu Sans Mono',consolas,'Courier New',monospace\"><span style=\"font-weight: bold\"> Total params: </span><span style=\"color: #00af00; text-decoration-color: #00af00\">40,480</span> (158.12 KB)\n",
              "</pre>\n"
            ]
          },
          "metadata": {}
        },
        {
          "output_type": "display_data",
          "data": {
            "text/plain": [
              "\u001b[1m Trainable params: \u001b[0m\u001b[38;5;34m40,480\u001b[0m (158.12 KB)\n"
            ],
            "text/html": [
              "<pre style=\"white-space:pre;overflow-x:auto;line-height:normal;font-family:Menlo,'DejaVu Sans Mono',consolas,'Courier New',monospace\"><span style=\"font-weight: bold\"> Trainable params: </span><span style=\"color: #00af00; text-decoration-color: #00af00\">40,480</span> (158.12 KB)\n",
              "</pre>\n"
            ]
          },
          "metadata": {}
        },
        {
          "output_type": "display_data",
          "data": {
            "text/plain": [
              "\u001b[1m Non-trainable params: \u001b[0m\u001b[38;5;34m0\u001b[0m (0.00 B)\n"
            ],
            "text/html": [
              "<pre style=\"white-space:pre;overflow-x:auto;line-height:normal;font-family:Menlo,'DejaVu Sans Mono',consolas,'Courier New',monospace\"><span style=\"font-weight: bold\"> Non-trainable params: </span><span style=\"color: #00af00; text-decoration-color: #00af00\">0</span> (0.00 B)\n",
              "</pre>\n"
            ]
          },
          "metadata": {}
        }
      ],
      "source": [
        "# Code it!\n",
        "\n",
        "model.summary()\n",
        "\n"
      ]
    },
    {
      "cell_type": "markdown",
      "metadata": {
        "id": "JUEZ-A92vgLA"
      },
      "source": [
        "The model summary indicates that this model has 40,480 parameters (weights and biases). **Note**: If your model summary does not show `Total params: 40480`, double check your model was set up correctly."
      ]
    },
    {
      "cell_type": "markdown",
      "metadata": {
        "id": "BwirnwTWvgLA"
      },
      "source": [
        "## 8. Fit the model to the training data\n",
        "\n",
        "Now, train the model on the MNIST dataset using the `fit` method. Set the training to run for 10 epochs.\n",
        "\n",
        "Train the model using the training data:\n",
        "* `train_features`: the input images\n",
        "* `train_labels`: the true labels for each image\n",
        "* `epochs=10`: the number of times the model will cycle through the entire dataset\n",
        "\n",
        "```python\n",
        "\n",
        "model.fit(train_features, train_labels, epochs=10)\n",
        "```"
      ]
    },
    {
      "cell_type": "code",
      "execution_count": 27,
      "metadata": {
        "colab": {
          "base_uri": "https://localhost:8080/"
        },
        "id": "PKa4KsLSvgLA",
        "outputId": "9f78ee2e-f6b5-4b45-a8a8-e44e5e2f409f"
      },
      "outputs": [
        {
          "output_type": "stream",
          "name": "stdout",
          "text": [
            "Epoch 1/10\n",
            "\u001b[1m1875/1875\u001b[0m \u001b[32m━━━━━━━━━━━━━━━━━━━━\u001b[0m\u001b[37m\u001b[0m \u001b[1m5s\u001b[0m 2ms/step - accuracy: 0.8364 - loss: 0.5588\n",
            "Epoch 2/10\n",
            "\u001b[1m1875/1875\u001b[0m \u001b[32m━━━━━━━━━━━━━━━━━━━━\u001b[0m\u001b[37m\u001b[0m \u001b[1m4s\u001b[0m 2ms/step - accuracy: 0.9502 - loss: 0.1730\n",
            "Epoch 3/10\n",
            "\u001b[1m1875/1875\u001b[0m \u001b[32m━━━━━━━━━━━━━━━━━━━━\u001b[0m\u001b[37m\u001b[0m \u001b[1m6s\u001b[0m 2ms/step - accuracy: 0.9648 - loss: 0.1196\n",
            "Epoch 4/10\n",
            "\u001b[1m1875/1875\u001b[0m \u001b[32m━━━━━━━━━━━━━━━━━━━━\u001b[0m\u001b[37m\u001b[0m \u001b[1m4s\u001b[0m 2ms/step - accuracy: 0.9733 - loss: 0.0914\n",
            "Epoch 5/10\n",
            "\u001b[1m1875/1875\u001b[0m \u001b[32m━━━━━━━━━━━━━━━━━━━━\u001b[0m\u001b[37m\u001b[0m \u001b[1m4s\u001b[0m 2ms/step - accuracy: 0.9780 - loss: 0.0766\n",
            "Epoch 6/10\n",
            "\u001b[1m1875/1875\u001b[0m \u001b[32m━━━━━━━━━━━━━━━━━━━━\u001b[0m\u001b[37m\u001b[0m \u001b[1m3s\u001b[0m 2ms/step - accuracy: 0.9801 - loss: 0.0641\n",
            "Epoch 7/10\n",
            "\u001b[1m1875/1875\u001b[0m \u001b[32m━━━━━━━━━━━━━━━━━━━━\u001b[0m\u001b[37m\u001b[0m \u001b[1m4s\u001b[0m 2ms/step - accuracy: 0.9814 - loss: 0.0587\n",
            "Epoch 8/10\n",
            "\u001b[1m1875/1875\u001b[0m \u001b[32m━━━━━━━━━━━━━━━━━━━━\u001b[0m\u001b[37m\u001b[0m \u001b[1m3s\u001b[0m 2ms/step - accuracy: 0.9856 - loss: 0.0470\n",
            "Epoch 9/10\n",
            "\u001b[1m1875/1875\u001b[0m \u001b[32m━━━━━━━━━━━━━━━━━━━━\u001b[0m\u001b[37m\u001b[0m \u001b[1m3s\u001b[0m 2ms/step - accuracy: 0.9870 - loss: 0.0419\n",
            "Epoch 10/10\n",
            "\u001b[1m1875/1875\u001b[0m \u001b[32m━━━━━━━━━━━━━━━━━━━━\u001b[0m\u001b[37m\u001b[0m \u001b[1m3s\u001b[0m 2ms/step - accuracy: 0.9875 - loss: 0.0397\n"
          ]
        },
        {
          "output_type": "execute_result",
          "data": {
            "text/plain": [
              "<keras.src.callbacks.history.History at 0x79f2fc569090>"
            ]
          },
          "metadata": {},
          "execution_count": 27
        }
      ],
      "source": [
        "# Code it!\n",
        "\n",
        "model.fit(train_features, train_labels, epochs=10)\n",
        "\n"
      ]
    },
    {
      "cell_type": "markdown",
      "metadata": {
        "id": "3FIbjJCZvgLA"
      },
      "source": [
        "## 9. Evaluate the model\n",
        "\n",
        "Finally, evaluate your model's performance on the test set by calling the model's `evaluate()` method.\n",
        "\n",
        "\n",
        "Evaluate the model's performance using the testing data:\n",
        "* `test_features`: the input images from the testing set\n",
        "* `test_labels`: the true labels for each image in the testing set\n",
        "\n",
        "The `evaluate` method returns the loss value and any additional metrics (in this case, accuracy) for the model on the testing data.\n",
        "\n",
        "```python\n",
        "model.evaluate(test_features, test_labels)\n",
        "```"
      ]
    },
    {
      "cell_type": "code",
      "execution_count": 28,
      "metadata": {
        "colab": {
          "base_uri": "https://localhost:8080/"
        },
        "id": "p98dSIXevgLA",
        "outputId": "16d60677-8fd1-4c60-f246-ec7029aa0883"
      },
      "outputs": [
        {
          "output_type": "stream",
          "name": "stdout",
          "text": [
            "\u001b[1m313/313\u001b[0m \u001b[32m━━━━━━━━━━━━━━━━━━━━\u001b[0m\u001b[37m\u001b[0m \u001b[1m1s\u001b[0m 1ms/step - accuracy: 0.9694 - loss: 0.1140\n"
          ]
        },
        {
          "output_type": "execute_result",
          "data": {
            "text/plain": [
              "[0.09689629077911377, 0.9751999974250793]"
            ]
          },
          "metadata": {},
          "execution_count": 28
        }
      ],
      "source": [
        "# Code it!\n",
        "\n",
        "model.evaluate(test_features, test_labels)"
      ]
    },
    {
      "cell_type": "markdown",
      "metadata": {
        "id": "leoZ3gZrvgLA"
      },
      "source": [
        "## 10. Model predictions\n",
        "\n",
        "Let's see how the model performs on some randomly selected images.  Are its predictions correct?  \n",
        "\n",
        "Randomly select an image from the test dataset, in this case, the 200th image.\n",
        "\n",
        "Select a specific image from the test dataset for examination or prediction.\n",
        "\n",
        "The variable `loc` is set to the index 200, which means we are selecting the 201st image (0-based index) from the test dataset.\n",
        "\n",
        "```python\n",
        "loc = 200\n",
        "\n",
        "# Extract the corresponding image from the test_features array and store it in the 'test_image' variable.\n",
        "test_image = test_features[loc]\n",
        "```"
      ]
    },
    {
      "cell_type": "code",
      "execution_count": 30,
      "metadata": {
        "id": "dLKt_SyXvgLA"
      },
      "outputs": [],
      "source": [
        "# Code it!\n",
        "\n",
        "loc = 200\n",
        "\n",
        "test_image = test_features[loc]"
      ]
    },
    {
      "cell_type": "markdown",
      "metadata": {
        "id": "Jwh1JlfWvgLA"
      },
      "source": [
        "First, let's take a look at the shape of the image.\n",
        "\n",
        "* Get and display the shape (dimensions) of the `test_image` variable.\n",
        "* This provides insight into the structure and size of the image.\n",
        "\n",
        "```python\n",
        "test_image.shape\n",
        "```"
      ]
    },
    {
      "cell_type": "code",
      "execution_count": 31,
      "metadata": {
        "colab": {
          "base_uri": "https://localhost:8080/"
        },
        "id": "em_KQVwlvgLA",
        "outputId": "8a62450d-1448-4faf-e53e-77539bc397e2"
      },
      "outputs": [
        {
          "output_type": "execute_result",
          "data": {
            "text/plain": [
              "(28, 28)"
            ]
          },
          "metadata": {},
          "execution_count": 31
        }
      ],
      "source": [
        "# Code it!\n",
        "\n",
        "test_image.shape\n",
        "\n"
      ]
    },
    {
      "cell_type": "markdown",
      "metadata": {
        "id": "IxSdsr2RvgLA"
      },
      "source": [
        "We see that our image is 28x28 pixels. However, the model needs not just the size of the image but also the number of channels. A simple call to the `reshape()` method fixes that problem.\n",
        "\n",
        "* Reshape the 'test_image' from a 2D array (28x28) to a 3D array (1x28x28).\n",
        "* This is commonly done to match the input shape that the model expects when making predictions on single samples.\n",
        "\n",
        "```python\n",
        "test_image = test_image.reshape(1,28,28)\n",
        "```"
      ]
    },
    {
      "cell_type": "code",
      "execution_count": 32,
      "metadata": {
        "id": "cYM_bVEHvgLA"
      },
      "outputs": [],
      "source": [
        "# Code it!\n",
        "\n",
        "test_image = test_image.reshape(1,28,28)\n",
        "\n"
      ]
    },
    {
      "cell_type": "markdown",
      "metadata": {
        "id": "yrhdvd-wvgLA"
      },
      "source": [
        "Now call the model's `predict()` method, assign the output to result, and then view its contents.\n",
        "\n",
        "* Use the trained model to predict the label for the `test_image`.\n",
        "* The `predict` method returns an array of probabilities for each possible label (in the case of MNIST, digits 0-9).\n",
        "* Each value in the array corresponds to the model's predicted probability that the image belongs to a particular class (digit).\n",
        "\n",
        "```python\n",
        "result = model.predict(test_image)\n",
        "\n",
        "# Print the array of probabilities to the console.\n",
        "print(result)\n",
        "```"
      ]
    },
    {
      "cell_type": "code",
      "execution_count": 33,
      "metadata": {
        "colab": {
          "base_uri": "https://localhost:8080/"
        },
        "id": "T8hzeArbvgLA",
        "outputId": "67c47bd0-14c3-4242-8dcf-41664ec67862"
      },
      "outputs": [
        {
          "output_type": "stream",
          "name": "stdout",
          "text": [
            "\u001b[1m1/1\u001b[0m \u001b[32m━━━━━━━━━━━━━━━━━━━━\u001b[0m\u001b[37m\u001b[0m \u001b[1m0s\u001b[0m 48ms/step\n",
            "[[7.9876311e-10 7.6104826e-12 1.6045706e-05 9.9897754e-01 4.3707595e-15 9.6799608e-04 4.6470575e-13 1.5402818e-09 3.8511440e-05 8.0228020e-12]]\n"
          ]
        }
      ],
      "source": [
        "# Code it!\n",
        "\n",
        "result = model.predict(test_image)\n",
        "\n",
        "# Print the array of probabilities to the console.\n",
        "print(result)"
      ]
    },
    {
      "cell_type": "markdown",
      "metadata": {
        "id": "c5pYdH6RvgLA"
      },
      "source": [
        "As we see, the model has returned the probability of 10 predictions, with the highest one being the most likely.  Use the `argmax` function to see the model's prediction.\n",
        "\n",
        "* Use the `argmax` method to find the index (label) of the maximum value in the `result` array.\n",
        "   * This gives us the model's most likely prediction for the class (digit) of the `test_image`.\n",
        "\n",
        "```python\n",
        "result.argmax()\n",
        "```"
      ]
    },
    {
      "cell_type": "code",
      "execution_count": 34,
      "metadata": {
        "colab": {
          "base_uri": "https://localhost:8080/"
        },
        "id": "x9TwrrOYvgLA",
        "outputId": "c34c5852-6704-439c-c7a1-561b21cc331b"
      },
      "outputs": [
        {
          "output_type": "execute_result",
          "data": {
            "text/plain": [
              "3"
            ]
          },
          "metadata": {},
          "execution_count": 34
        }
      ],
      "source": [
        "# Code it!\n",
        "\n",
        "result.argmax()\n",
        "\n"
      ]
    },
    {
      "cell_type": "markdown",
      "metadata": {
        "id": "1slR6wgRvgLA"
      },
      "source": [
        "To verify the prediction, check the label of the corresponding image.\n",
        "\n",
        "\n",
        "* Using the index loc, retrieve the true label (actual digit) for the `test_image` from the `test_labels` array.\n",
        "   * This gives us the actual class (digit) of the `test_image` to compare with the model's prediction.\n",
        "\n",
        "```python\n",
        "test_labels[loc]\n",
        "```"
      ]
    },
    {
      "cell_type": "code",
      "execution_count": 35,
      "metadata": {
        "colab": {
          "base_uri": "https://localhost:8080/"
        },
        "id": "u3-stJNbvgLA",
        "outputId": "4658b427-9499-463d-f2e4-184f2be9dff5"
      },
      "outputs": [
        {
          "output_type": "execute_result",
          "data": {
            "text/plain": [
              "3"
            ]
          },
          "metadata": {},
          "execution_count": 35
        }
      ],
      "source": [
        "# Code it!\n",
        "\n",
        "test_labels[loc]"
      ]
    },
    {
      "cell_type": "markdown",
      "metadata": {
        "id": "HFrK5jc0vgLA"
      },
      "source": [
        "Finally, visualize the image with pyplot.\n",
        "\n",
        "* Use the `imshow` function from the `matplotlib` library to display the `test_image` as a visual image.\n",
        "   * This helps in visually examining the content of the `test_image` (which is represented as a 28x28 array of pixel values).\n",
        "\n",
        "```python\n",
        "plt.imshow(test_features[loc])\n",
        "```"
      ]
    },
    {
      "cell_type": "code",
      "execution_count": 36,
      "metadata": {
        "colab": {
          "base_uri": "https://localhost:8080/",
          "height": 447
        },
        "id": "FoA_k7MJvgLD",
        "outputId": "e8159ed5-cbc6-48a0-c769-71af56e76778"
      },
      "outputs": [
        {
          "output_type": "execute_result",
          "data": {
            "text/plain": [
              "<matplotlib.image.AxesImage at 0x79f2fc730520>"
            ]
          },
          "metadata": {},
          "execution_count": 36
        },
        {
          "output_type": "display_data",
          "data": {
            "text/plain": [
              "<Figure size 640x480 with 1 Axes>"
            ],
            "image/png": "[encoded data removed]"
          },
          "metadata": {}
        }
      ],
      "source": [
        "# Code it!\n",
        "\n",
        "plt.imshow(test_features[loc])\n",
        "\n"
      ]
    },
    {
      "cell_type": "markdown",
      "metadata": {
        "id": "K3y-2x7SvgLD"
      },
      "source": [
        "And we did it! We helped Amelia create a model that can recognize handwritten digits!\n",
        "\n",
        "\n",
        "## Bonus exercise\n",
        "\n",
        "* Write a function that ties all these steps into one function call. The function should take an input image and print the image with the predicted digit and true digit."
      ]
    },
    {
      "cell_type": "markdown",
      "metadata": {
        "tags": [],
        "id": "s5sehWfNvgLD"
      },
      "source": [
        "## Before continuing\n",
        "###  <img src='https://github.com/faulknerryan72/deep_learning/blob/main/images/alert_icon.svg?raw=1' alt=\"Alert icon\" width=40 align=center> Alert!\n",
        "> Before continuing to another notebook within the same Jupyter session,\n",
        "> use the **\"Running Terminals and Kernels\" tab** (below the File Browser tab) to **shut down this kernel**.\n",
        "> This will free up this notebook's GPU memory, making it available for\n",
        "> your next notebook.\n",
        ">\n",
        "> Every time you run multiple notebooks within a Jupyter session with a GPU, this should be done.\n",
        ">\n",
        "> ![Screenshot of the Running Terminals and Kernels tab used t oshut down kernels before starting a new notebook](https://github.com/faulknerryan72/deep_learning/blob/main/images/stop_kernel.png?raw=1)\n",
        "\n",
        "----\n",
        "## Push changes to GitHub <img src=\"https://github.com/faulknerryan72/deep_learning/blob/main/images/push_to_github.png?raw=1\" alt=\"Push to GitHub icon\" align=\"right\" width=150>\n",
        "\n",
        " Remember to **add**, **commit**, and **push** the changes you have made to this notebook to GitHub to keep your repository in sync.\n",
        "\n",
        "In Jupyter, those are done in the git tab on the left. In Google Colab, use File > Save a copy in GitHub.\n"
      ]
    },
    {
      "cell_type": "code",
      "execution_count": null,
      "metadata": {
        "id": "Qmi37yDjvgLE"
      },
      "outputs": [],
      "source": []
    }
  ],
  "metadata": {
    "kernelspec": {
      "display_name": "Tensorflow-2.15",
      "language": "python",
      "name": "tensorflow-2.15"
    },
    "language_info": {
      "codemirror_mode": {
        "name": "ipython",
        "version": 3
      },
      "file_extension": ".py",
      "mimetype": "text/x-python",
      "name": "python",
      "nbconvert_exporter": "python",
      "pygments_lexer": "ipython3",
      "version": "3.11.5"
    },
    "colab": {
      "provenance": []
    }
  },
  "nbformat": 4,
  "nbformat_minor": 0
}